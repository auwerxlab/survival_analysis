{
 "cells": [
  {
   "cell_type": "markdown",
   "metadata": {},
   "source": [
    "## Setup for RENKU\n",
    "\n",
    "*Skip this step if not using RENKU*\n",
    "\n",
    "The Dockerfile takes care of compiling the packrat-managed R libraries from the sources and storing them in the home directory while the docker image is build.\n",
    "This removes the need to compile the  R libraries each time the project is opened nor to push the \"heavy\" compiled libraries files on the git repository.\n",
    "In addition, the libraries layer can be shared among docker images, which can reduce the build time of new images.\n",
    "\n",
    "To benefit from that system, enable the use of the packrat R libraries on the docker image using the [``renku-r-tools`` package](https://pypi.org/project/renku-r-tools).\n",
    "\n",
    "The ``renku-r ln-packrat-lib`` command will replace the packrat R libraries of the R project by links to the compiled libraries in the home directory."
   ]
  },
  {
   "cell_type": "code",
   "execution_count": null,
   "metadata": {},
   "outputs": [],
   "source": [
    "!renku-r ln-packrat-lib -p . -s /home/rstudio/packrat"
   ]
  },
  {
   "cell_type": "markdown",
   "metadata": {},
   "source": [
    "Ensure that data can be pushed on the git repository by editing the ``.gitignore`` file.\n",
    "For security, files in ``data/`` and ``figs/`` are not tracked by default.\n",
    "\n",
    "CAUTION: Errors in git setup can lead to breaches in privacy.\n",
    " - Understand the project's privacy requirments\n",
    " - Know who has access to the git repository\n",
    " - If you whitness a breach, immediatly inform the responsible persons and fix the breach (make sure to also delete all sensitive information from previous versions and log files)"
   ]
  },
  {
   "cell_type": "code",
   "execution_count": null,
   "metadata": {},
   "outputs": [],
   "source": [
    "!sed -i \"/data\\/\\*/d;/figs\\/\\*/d;/\\*\\.nb\\.html/d\" .gitignore"
   ]
  },
  {
   "cell_type": "markdown",
   "metadata": {},
   "source": [
    "## Import data from SLIMS\n",
    "\n",
    "*Skip this step if not using SLIMS*\n",
    "\n",
    "Import raw survival counts from SLIMS using the [``slims-lisp`` package](https://pypi.org/project/slims-lisp).\n",
    "\n",
    "Use the ``slims-lisp fetch`` command to download the data collection .xlsx file from a SLIMS ELN attachment step.\n",
    "A file containing metadata about the origin of the file on SLIMS will also be created by the command.\n",
    "The ``subprocess`` and ``getpass`` modules are used to securely enter the access credentials."
   ]
  },
  {
   "cell_type": "code",
   "execution_count": null,
   "metadata": {},
   "outputs": [],
   "source": [
    "# Set ``slims-lisp fetch`` options\n",
    "url = input(\"SLIMS url (ex: https://<address>/rest/rest): \")\n",
    "proj = input(\"Project name: \")\n",
    "exp = input(\"Experiment name: \")\n",
    "step = input(\"Attachment step name: \")\n",
    "attm = input(\"Attachment name: \")\n",
    "output_fp = input(\"Output path: \")\n",
    "user = input(\"SLIMS username: \")"
   ]
  },
  {
   "cell_type": "code",
   "execution_count": null,
   "metadata": {},
   "outputs": [],
   "source": [
    "# Download attachment with ``slims-lisp fetch``\n",
    "import subprocess\n",
    "import getpass\n",
    "slims_fetch = subprocess.Popen(['slims-lisp', 'fetch',\n",
    "                                '--url', url,\n",
    "                                '--proj', proj,\n",
    "                                '--exp', exp,\n",
    "                                '--step', step,\n",
    "                                '--attm', attm,\n",
    "                                '--output', output_fp,\n",
    "                                '-v',\n",
    "                                '-u', user,\n",
    "                                '-p', getpass.getpass(\"SLIMS password: \")],\n",
    "                               stdout = subprocess.PIPE)\n",
    "stdout = slims_fetch.stdout.read().decode()\n",
    "print(stdout)"
   ]
  },
  {
   "cell_type": "markdown",
   "metadata": {},
   "source": [
    "## Create a RENKU dataset\n",
    "\n",
    "*Skip this step if not using RENKU*\n",
    "\n",
    "Create a RENKU dataset and add the data file to it using the [``renku`` package](https://pypi.org/project/renku).\n",
    "This will make the data searchable in RENKU and easier to export to repositories like Zenodo."
   ]
  },
  {
   "cell_type": "code",
   "execution_count": null,
   "metadata": {},
   "outputs": [],
   "source": [
    "# Create a RENKU dataset\n",
    "dataset_init = input(\"Dataset name: \")\n",
    "dataset_create = subprocess.Popen(['/home/rstudio/.local/bin/renku', 'dataset', 'create',\n",
    "                                   dataset_init],\n",
    "                                  stdout = subprocess.PIPE)\n",
    "stdout = dataset_create.stdout.read().decode()\n",
    "print(stdout)"
   ]
  },
  {
   "cell_type": "code",
   "execution_count": null,
   "metadata": {},
   "outputs": [],
   "source": [
    "# Add a file to the RENKU dataset\n",
    "if output_fp is None:\n",
    "    output_fp = input(\"File: \")\n",
    "if dataset_init is None:\n",
    "    dataset_init = input(\"Dataset name: \")\n",
    "dataset_add = subprocess.Popen(['/home/rstudio/.local/bin/renku', 'dataset', 'add',\n",
    "                                dataset_init,\n",
    "                                output_fp],\n",
    "                               stdout = subprocess.PIPE)\n",
    "stdout = dataset_add.stdout.read().decode()\n",
    "print(stdout)"
   ]
  },
  {
   "cell_type": "markdown",
   "metadata": {},
   "source": [
    "# Build survival curves using the ``bin/build_survival_curves.R`` R script\n",
    "\n",
    "Run ``bin/build_survival_curves.R --help`` to see the options.\n",
    "\n",
    "If using RENKU, prepend the ``renku run`` command to track the results in the Knowledge Graph."
   ]
  },
  {
   "cell_type": "code",
   "execution_count": null,
   "metadata": {},
   "outputs": [],
   "source": [
    "# Set the options for ``bin/build_survival_curves.R``\n",
    "if output_fp is None:\n",
    "    output_fp = input(\"Path to the xlsx input file (ex: 'data/survival_data.xlsx'): \")\n",
    "input_fp = output_fp\n",
    "model = input(\"Model (ex: 'Strain+Treatment'): \")\n",
    "result_dir = input(\"Path to the output directory (ex: 'data/results'): \")"
   ]
  },
  {
   "cell_type": "code",
   "execution_count": null,
   "metadata": {},
   "outputs": [],
   "source": [
    "# Run ``bin/build_survival_curves.R``\n",
    "import os\n",
    "if not os.path.exists(result_dir):\n",
    "    os.makedirs(result_dir)\n",
    "build_surv = subprocess.Popen(['bin/build_survival_curves.R',\n",
    "                               '--input', input_fp,\n",
    "                               '--model', model,\n",
    "                               '-t', result_dir + \"/\" + os.path.splitext(os.path.basename(input_fp))[0] + \".txt\",\n",
    "                               '-f', \"figs/\" + os.path.basename(result_dir) + \".pdf\",\n",
    "                               '--coxph', result_dir + \"/\" + os.path.splitext(os.path.basename(input_fp))[0] + \"_coxph.txt\",\n",
    "                               '--km', result_dir + \"/\" + os.path.splitext(os.path.basename(input_fp))[0] + \"_km.txt\"\n",
    "                              ],\n",
    "                              stdout = subprocess.PIPE)\n",
    "stdout = build_surv.stdout.read().decode()\n",
    "print(stdout)"
   ]
  },
  {
   "cell_type": "markdown",
   "metadata": {},
   "source": [
    "## Create a RENKU dataset with the analysis results\n",
    "\n",
    "*Skip this step if not using RENKU*"
   ]
  },
  {
   "cell_type": "code",
   "execution_count": null,
   "metadata": {},
   "outputs": [],
   "source": [
    "# Create a RENKU dataset\n",
    "dataset_results = input(\"Dataset name: \")\n",
    "dataset_create = subprocess.Popen(['/home/rstudio/.local/bin/renku', 'dataset', 'create',\n",
    "                                   dataset_results],\n",
    "                                  stdout = subprocess.PIPE)\n",
    "stdout = dataset_create.stdout.read().decode()\n",
    "print(stdout)"
   ]
  },
  {
   "cell_type": "code",
   "execution_count": null,
   "metadata": {},
   "outputs": [],
   "source": [
    "# Add results to the RENKU dataset\n",
    "import glob\n",
    "\n",
    "if result_dir is None:\n",
    "    result_dir = input(\"Results directory path: \")\n",
    "if dataset_results is None:\n",
    "    dataset_results = input(\"Dataset name: \")\n",
    "    \n",
    "for f in os.listdir(result_dir):\n",
    "    dataset_add = subprocess.Popen(['/home/rstudio/.local/bin/renku', 'dataset', 'add',\n",
    "                                    dataset_results,\n",
    "                                    result_dir + \"/\" + f],\n",
    "                                   stdout = subprocess.PIPE)\n",
    "    stdout = dataset_add.stdout.read().decode()\n",
    "    print(stdout)\n",
    "\n",
    "# Add figures to the RENKU dataset\n",
    "for f in glob.glob(\"figs/\" + os.path.basename(result_dir) + \".*\"):\n",
    "    dataset_add = subprocess.Popen(['/home/rstudio/.local/bin/renku', 'dataset', 'add',\n",
    "                                    dataset_results,\n",
    "                                    f],\n",
    "                                   stdout = subprocess.PIPE)\n",
    "    stdout = dataset_add.stdout.read().decode()\n",
    "    print(stdout)"
   ]
  },
  {
   "cell_type": "markdown",
   "metadata": {},
   "source": [
    "## Upload the results into SLIMS\n",
    "\n",
    "*Skip this step if not using SLIMS*\n",
    "\n",
    "Export results on SLIMS using the [``slims-lisp`` package](https://pypi.org/project/slims-lisp).\n",
    "Use the ``slims-lisp add-dataset`` command to upload the files to a new SLIMS ELN attachment step.\n",
    "Again, the ``subprocess`` and ``getpass`` modules are used to securely enter the access credentials."
   ]
  },
  {
   "cell_type": "code",
   "execution_count": null,
   "metadata": {},
   "outputs": [],
   "source": [
    "# Get the list of data files\n",
    "import glob\n",
    "\n",
    "if result_dir is None:\n",
    "    result_dir = input(\"Results directory path: \")\n",
    "    \n",
    "results_files = glob.glob(result_dir + \"/*\")\n",
    "results_files.extend(glob.glob(\"figs/\" + os.path.basename(result_dir) + \".*\"))"
   ]
  },
  {
   "cell_type": "code",
   "execution_count": null,
   "metadata": {},
   "outputs": [],
   "source": [
    "# If using RENKU, add the metadata from the RENKU dataset\n",
    "# Skip this step if not using RENKU\n",
    "%run helper\n",
    "import re\n",
    "if dataset_results is None:\n",
    "    dataset_results = input(\"Dataset name: \")\n",
    "\n",
    "metadata = Command(['/home/rstudio/.local/bin/renku', 'dataset'])\n",
    "metadata.pipe(['grep', '-w', re.sub(\"[^A-Za-z0-9]+\", \"\", dataset_results)])\n",
    "metadata.pipe(['cut', '-d', ' ', '-f1'])\n",
    "metadata_file = \".renku/datasets/\" + metadata.stdout.read().decode().splitlines()[0] + \"/metadata.yml\"\n",
    "if metadata_file not in results_files:\n",
    "    results_files.append(metadata_file)"
   ]
  },
  {
   "cell_type": "code",
   "execution_count": null,
   "metadata": {},
   "outputs": [],
   "source": [
    "# Set ``slims-lisp fetch`` options\n",
    "if url is None:\n",
    "    url = input(\"SLIMS url (ex: https://<address>/rest/rest): \")\n",
    "if proj is None:\n",
    "    proj = input(\"Project name: \")\n",
    "if exp is None:\n",
    "    exp = input(\"Experiment name: \")\n",
    "title = input(\"Attachment step name: \")\n",
    "if user is None:\n",
    "    user = input(\"User: \")"
   ]
  },
  {
   "cell_type": "code",
   "execution_count": null,
   "metadata": {},
   "outputs": [],
   "source": [
    "# Upload the files into a new SLIMS attachment step\n",
    "slims_add = subprocess.Popen(['slims-lisp', 'add-dataset',\n",
    "                              '--url', url,\n",
    "                              '--proj', proj,\n",
    "                              '--exp', exp,\n",
    "                              '--files', ','.join(files),\n",
    "                              '--title', title,\n",
    "                              '-v',\n",
    "                              '-u', user,\n",
    "                              '-p', getpass.getpass(\"SLIMS password:\")],\n",
    "                             stdout=subprocess.PIPE)\n",
    "stdout = slims_add.stdout.read().decode()\n",
    "print(stdout)"
   ]
  }
 ],
 "metadata": {
  "kernelspec": {
   "display_name": "Python 3",
   "language": "python",
   "name": "python3"
  },
  "language_info": {
   "codemirror_mode": {
    "name": "ipython",
    "version": 3
   },
   "file_extension": ".py",
   "mimetype": "text/x-python",
   "name": "python",
   "nbconvert_exporter": "python",
   "pygments_lexer": "ipython3",
   "version": "3.7.3"
  }
 },
 "nbformat": 4,
 "nbformat_minor": 4
}
