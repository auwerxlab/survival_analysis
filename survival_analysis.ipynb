{
 "cells": [
  {
   "cell_type": "markdown",
   "metadata": {},
   "source": [
    "# Survival analysis\n",
    "\n",
    "### General setup for working locally\n",
    "\n",
    "*Skip this cell if using RENKU*\n",
    "\n",
    "The R libraries first need to be compiled from the provided sources using the packrat::restore() command."
   ]
  },
  {
   "cell_type": "code",
   "execution_count": null,
   "metadata": {},
   "outputs": [],
   "source": [
    "!Rscript -e \"packrat::on(); packrat::restore()\""
   ]
  },
  {
   "cell_type": "markdown",
   "metadata": {},
   "source": [
    "### Specific setup for working on RENKU\n",
    "\n",
    "*Skip this cell if not using RENKU*\n",
    "\n",
    "When opening the project in RENKU for the first time, migrate the packrat libraries on the docker image using the python [``renku-r-tools`` package](https://pypi.org/project/renku-r-tools) package.\n",
    "\n",
    "The ``renku-r ln-packrat-lib`` command will replace the packrat R libraries of the R project by links to the compiled libraries in the home directory."
   ]
  },
  {
   "cell_type": "code",
   "execution_count": null,
   "metadata": {},
   "outputs": [],
   "source": [
    "!renku-r ln-packrat-lib -p . -s /home/rstudio/packrat -v -f"
   ]
  },
  {
   "cell_type": "markdown",
   "metadata": {},
   "source": [
    "## Import data from SLIMS\n",
    "\n",
    "*Skip this step if not using SLIMS*\n",
    "\n",
    "Import raw survival counts from SLIMS using the [``slims-lisp`` package](https://pypi.org/project/slims-lisp).\n",
    "\n",
    "Use the ``slims-lisp fetch`` command to download the data collection .xlsx file from a SLIMS ELN attachment step.\n",
    "A file containing metadata about the origin of the file on SLIMS will also be created by the command.\n",
    "The ``subprocess`` and ``getpass`` modules are used to securely enter the access credentials."
   ]
  },
  {
   "cell_type": "code",
   "execution_count": null,
   "metadata": {},
   "outputs": [],
   "source": [
    "# Set ``slims-lisp fetch`` options\n",
    "import subprocess\n",
    "import getpass\n",
    "import os\n",
    "\n",
    "if \"url\" not in vars():\n",
    "    url = input(\"SLIMS url (ex: https://<address>/rest/rest): \")\n",
    "if \"proj\" not in vars():\n",
    "    proj = input(\"Project name: \")\n",
    "if \"exp\" not in vars():\n",
    "    exp = input(\"Experiment name: \")\n",
    "if \"step\" not in vars():\n",
    "    step = input(\"Attachment step name: \")\n",
    "if \"attm\" not in vars():\n",
    "    attm = input(\"Attachment name: \")\n",
    "if \"output_fp\" not in vars():\n",
    "    output_fp = input(\"Output file path (ex: data/survival_data.xlsx): \")\n",
    "if \"user\" not in vars():\n",
    "    user = input(\"SLIMS username: \")\n",
    "\n",
    "if not os.path.exists(os.path.dirname(output_fp)):\n",
    "    os.makedirs(os.path.dirname(output_fp))\n",
    "\n",
    "# Download attachment with ``slims-lisp fetch``\n",
    "slims_fetch = subprocess.Popen(['slims-lisp', 'fetch',\n",
    "                                '--url', url,\n",
    "                                '--proj', proj,\n",
    "                                '--exp', exp,\n",
    "                                '--step', step,\n",
    "                                '--attm', attm,\n",
    "                                '--output', output_fp,\n",
    "                                '-v',\n",
    "                                '-u', user,\n",
    "                                '-p', getpass.getpass(\"SLIMS password: \")],\n",
    "                               stdout = subprocess.PIPE,\n",
    "                               stderr = subprocess.PIPE)\n",
    "stdout = slims_fetch.stdout.read().decode()\n",
    "stderr = slims_fetch.stderr.read().decode()\n",
    "print(stdout + stderr)"
   ]
  },
  {
   "cell_type": "markdown",
   "metadata": {},
   "source": [
    "## Create an initial RENKU dataset\n",
    "\n",
    "*Skip this step if not using RENKU*\n",
    "\n",
    "Create a RENKU dataset and add the data collection file to it using the [``renku`` package](https://pypi.org/project/renku).\n",
    "This will make the data searchable in RENKU and easier to export to repositories like Zenodo."
   ]
  },
  {
   "cell_type": "code",
   "execution_count": null,
   "metadata": {},
   "outputs": [],
   "source": [
    "# Create an initial RENKU dataset\n",
    "import subprocess\n",
    "\n",
    "dataset_init = input(\"Dataset name: \")\n",
    "dataset_create = subprocess.Popen(['/home/rstudio/.local/bin/renku', 'dataset', 'create',\n",
    "                                   dataset_init],\n",
    "                                  stdout = subprocess.PIPE)\n",
    "stdout = dataset_create.stdout.read().decode()\n",
    "print(stdout)\n",
    "\n",
    "# Add a file to the initial RENKU dataset\n",
    "if \"output_fp\" not in vars():\n",
    "    output_fp = input(\"File to add: \")\n",
    "dataset_add = subprocess.Popen(['/home/rstudio/.local/bin/renku', 'dataset', 'add',\n",
    "                                dataset_init,\n",
    "                                output_fp],\n",
    "                               stdout = subprocess.PIPE,\n",
    "                               stderr = subprocess.PIPE)\n",
    "stdout = dataset_add.stdout.read().decode()\n",
    "stderr = dataset_add.stderr.read().decode()\n",
    "print(stdout + stderr)"
   ]
  },
  {
   "cell_type": "markdown",
   "metadata": {},
   "source": [
    "## Build survival curves\n",
    "\n",
    "Run the ``bin/build_survival_curves.R`` script:"
   ]
  },
  {
   "cell_type": "code",
   "execution_count": null,
   "metadata": {},
   "outputs": [],
   "source": [
    "# Set the options for ``bin/build_survival_curves.R``\n",
    "import os\n",
    "import subprocess\n",
    "\n",
    "if \"output_fp\" not in vars():\n",
    "    output_fp = input(\"Path to the xlsx data collection file (ex: 'data/survival_data.xlsx'): \")\n",
    "input_fp = output_fp\n",
    "model = input(\"Statistical model (ex: 'Strain+Treatment'): \")\n",
    "result_dir = input(\"Path to the output directory (ex: 'data/results'): \")\n",
    "if not os.path.exists(result_dir):\n",
    "    os.makedirs(result_dir)\n",
    "\n",
    "# Run ``bin/build_survival_curves.R``\n",
    "# ADVANCED: If using RENKU, prepend the ``renku run`` command to track the results in the Knowledge Graph.\n",
    "\n",
    "build_surv = subprocess.Popen(['bin/build_survival_curves.R',\n",
    "                               '--input_fp', input_fp,\n",
    "                               '--model', model,\n",
    "                               '--output', result_dir\n",
    "                              ],\n",
    "                              stdout = subprocess.PIPE,\n",
    "                              stderr = subprocess.PIPE)\n",
    "stdout = build_surv.stdout.read().decode()\n",
    "stderr = build_surv.stderr.read().decode()\n",
    "print(stdout + stderr)"
   ]
  },
  {
   "cell_type": "markdown",
   "metadata": {},
   "source": [
    "## Create a RENKU dataset with the analysis results\n",
    "\n",
    "*Skip this step if not using RENKU*"
   ]
  },
  {
   "cell_type": "code",
   "execution_count": null,
   "metadata": {},
   "outputs": [],
   "source": [
    "# Create a RENKU dataset\n",
    "import subprocess\n",
    "import os\n",
    "\n",
    "dataset_results = input(\"Dataset name: \")\n",
    "dataset_create = subprocess.Popen(['/home/rstudio/.local/bin/renku', 'dataset', 'create',\n",
    "                                   dataset_results],\n",
    "                                  stdout = subprocess.PIPE,\n",
    "                                  stderr = subprocess.PIPE)\n",
    "stdout = dataset_create.stdout.read().decode()\n",
    "stderr = dataset_create.stderr.read().decode()\n",
    "print(stdout + stderr)\n",
    "\n",
    "if \"result_dir\" not in vars():\n",
    "    result_dir = input(\"Results directory path: \")\n",
    "\n",
    "# Add results to the RENKU dataset\n",
    "for f in os.listdir(result_dir):\n",
    "    print(\"Adding: \" + f)\n",
    "    dataset_add = subprocess.Popen(['/home/rstudio/.local/bin/renku', 'dataset', 'add',\n",
    "                                    dataset_results,\n",
    "                                    result_dir + \"/\" + f],\n",
    "                                   stdout = subprocess.PIPE,\n",
    "                                   stderr = subprocess.PIPE)\n",
    "    stdout = dataset_add.stdout.read().decode()\n",
    "    stderr = dataset_add.stderr.read().decode()\n",
    "    print(stdout + stderr)"
   ]
  },
  {
   "cell_type": "markdown",
   "metadata": {},
   "source": [
    "## Upload the results into SLIMS\n",
    "\n",
    "*Skip this step if not using SLIMS*\n",
    "\n",
    "Export results on SLIMS using the [``slims-lisp`` package](https://pypi.org/project/slims-lisp).\n",
    "Use the ``slims-lisp add-dataset`` command to upload the files to a new SLIMS ELN attachment step.\n",
    "Again, the ``subprocess`` and ``getpass`` modules are used to securely enter the access credentials."
   ]
  },
  {
   "cell_type": "code",
   "execution_count": null,
   "metadata": {},
   "outputs": [],
   "source": [
    "# Get the list of data files\n",
    "import glob\n",
    "\n",
    "if \"result_dir\" not in vars():\n",
    "    result_dir = input(\"Results directory path: \")\n",
    "    \n",
    "results_files = glob.glob(result_dir + \"/*\")\n",
    "print(\"Data files:\\n\" + '\\n'.join(results_files))"
   ]
  },
  {
   "cell_type": "markdown",
   "metadata": {},
   "source": [
    "If using RENKU, add the metadata from the RENKU dataset\n",
    "\n",
    "*Skip this cell if not using RENKU*"
   ]
  },
  {
   "cell_type": "code",
   "execution_count": null,
   "metadata": {},
   "outputs": [],
   "source": [
    "%run lib/command\n",
    "import re\n",
    "\n",
    "if \"dataset_results\" not in vars():\n",
    "    dataset_results = input(\"Dataset name: \")\n",
    "\n",
    "metadata = Command(['/home/rstudio/.local/bin/renku', 'dataset'])\n",
    "metadata.pipe(['grep', '-w', re.sub(\"[^A-Za-z0-9]+\", \"\", dataset_results)])\n",
    "metadata.pipe(['cut', '-d', ' ', '-f1'])\n",
    "metadata_file = \".renku/datasets/\" + metadata.stdout.read().decode().splitlines()[0] + \"/metadata.yml\"\n",
    "if metadata_file not in results_files:\n",
    "    results_files.append(metadata_file)\n",
    "    print(\"Adding ''\" + metadata_file +\"'.\")\n",
    "else:\n",
    "    print(\"'\" + metadata_file + \"' already added.\")"
   ]
  },
  {
   "cell_type": "code",
   "execution_count": null,
   "metadata": {},
   "outputs": [],
   "source": [
    "# Set ``slims-lisp fetch`` options\n",
    "import subprocess\n",
    "import glob\n",
    "import getpass\n",
    "\n",
    "if \"url\" not in vars():\n",
    "    url = input(\"SLIMS url (ex: https://<address>/rest/rest): \")\n",
    "if \"proj\" not in vars():\n",
    "    proj = input(\"Project name: \")\n",
    "if \"exp\" not in vars():\n",
    "    exp = input(\"Experiment name: \")\n",
    "title = input(\"Attachment step name: \")\n",
    "if \"user\" not in vars():\n",
    "    user = input(\"SLIMS username: \")\n",
    "\n",
    "# Upload the files into a new SLIMS attachment step\n",
    "slims_add = subprocess.Popen(['slims-lisp', 'add-dataset',\n",
    "                              '--url', url,\n",
    "                              '--proj', proj,\n",
    "                              '--exp', exp,\n",
    "                              '--files', ','.join(results_files),\n",
    "                              '--title', title,\n",
    "                              '-v',\n",
    "                              '-u', user,\n",
    "                              '-p', getpass.getpass(\"SLIMS password:\")],\n",
    "                             stdout=subprocess.PIPE)\n",
    "stdout = slims_add.stdout.read().decode()\n",
    "print(stdout)"
   ]
  },
  {
   "cell_type": "markdown",
   "metadata": {},
   "source": [
    "## Save your work !\n",
    "\n",
    "Commit and push the changes onto the git repository.\n",
    "\n",
    "Danger: Errors in git setup can lead to breaches in privacy.\n",
    " - Understand the project's privacy requirments\n",
    " - Know who has access to the git repository\n",
    " - If you whitness a breach, immediatly inform the responsible persons and fix the breach (make sure to also delete all sensitive information from previous versions and logs)\n",
    "\n",
    "Tracking data and figures may be disabled by default, so the `.gitignore` file will be modified accordingly."
   ]
  },
  {
   "cell_type": "code",
   "execution_count": null,
   "metadata": {},
   "outputs": [],
   "source": [
    "%%bash -s \"{input('Git commit message: ')}\"\n",
    "sed -i \"/data\\/\\*/d;/figs\\/\\*/d;/\\*\\.nb\\.html/d\" .gitignore\n",
    "git add -A\n",
    "git commit -m \"$1\"\n",
    "git push"
   ]
  }
 ],
 "metadata": {
  "file_extension": ".py",
  "kernelspec": {
   "display_name": "Python 3",
   "language": "python",
   "name": "python3"
  },
  "language_info": {
   "codemirror_mode": {
    "name": "ipython",
    "version": 3
   },
   "file_extension": ".py",
   "mimetype": "text/x-python",
   "name": "python",
   "nbconvert_exporter": "python",
   "pygments_lexer": "ipython3",
   "version": "3.7.3"
  },
  "mimetype": "text/x-python",
  "name": "python",
  "npconvert_exporter": "python",
  "pygments_lexer": "ipython3",
  "version": 3
 },
 "nbformat": 4,
 "nbformat_minor": 4
}

