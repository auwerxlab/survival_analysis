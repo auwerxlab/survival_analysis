{
 "cells": [
  {
   "cell_type": "markdown",
   "metadata": {},
   "source": [
    "# Simplified survival analysis workflow for the LISP infrastructure\n",
    "\n",
    "#### 1. Setup"
   ]
  },
  {
   "cell_type": "code",
   "execution_count": null,
   "metadata": {},
   "outputs": [],
   "source": [
    "# General setup\n",
    "%run lib/lisp_workflow\n",
    "import os\n",
    "wf = Lisp_workflow(url = \"https://slims-lisp-dev.epfl.ch/rest/rest\",\n",
    "                  proj = input(\"SLIMS project name (if any)\"),\n",
    "                  exp = input(\"SLIMS experiment name\"),\n",
    "                  user = input(\"SLIMS user name\"))\n",
    "\n",
    "input_dataset_name = \"counts\"\n",
    "results_dataset_name = \"results\"\n",
    "input_dir = os.path.join(\"data\", input_dataset_name)\n",
    "results_dir =  os.path.join(\"data/\", results_dataset_name)"
   ]
  },
  {
   "cell_type": "markdown",
   "metadata": {},
   "source": [
    "#### 2. Download counts data from a SLIMS ELN attachment step"
   ]
  },
  {
   "cell_type": "code",
   "execution_count": null,
   "metadata": {},
   "outputs": [],
   "source": [
    "# Download counts data from a SLIMS ELN attachment step\n",
    "downloaded_file = wf.slims_fetch(output_dir = input_dir)"
   ]
  },
  {
   "cell_type": "markdown",
   "metadata": {},
   "source": [
    "#### 3. Create a RENKU dataset for the counts data"
   ]
  },
  {
   "cell_type": "code",
   "execution_count": null,
   "metadata": {},
   "outputs": [],
   "source": [
    "# Create a RENKU dataset for the counts data\n",
    "input_dataset_metadata = wf.dataset_create(dataset_name = input_dataset_name)\n",
    "wf.dataset_add(dataset_name = input_dataset_name,\n",
    "              file = downloaded_file)"
   ]
  },
  {
   "cell_type": "markdown",
   "metadata": {},
   "source": [
    "#### 4. Analyze the counts data"
   ]
  },
  {
   "cell_type": "code",
   "execution_count": null,
   "metadata": {},
   "outputs": [],
   "source": [
    "# Use the docker image packrat directory\n",
    "!renku-r ln-packrat-lib -p . -s /home/rstudio/packrat -v -f\n",
    "# Analyze the counts data using the lib/build_survival_curves.R script\n",
    "wf.build_survival_curves(input_fp = downloaded_file,\n",
    "                        output = results_dir)"
   ]
  },
  {
   "cell_type": "markdown",
   "metadata": {},
   "source": [
    "#### 5. Create a RENKU dataset for the analysis results"
   ]
  },
  {
   "cell_type": "code",
   "execution_count": null,
   "metadata": {},
   "outputs": [],
   "source": [
    "# Create a RENKU dataset for the analysis results\n",
    "results_dataset_metadata = wf.dataset_create(dataset_name = results_dataset_name)\n",
    "wf.dataset_add(dataset_name = results_dataset_name,\n",
    "               file = results_dir)"
   ]
  },
  {
   "cell_type": "markdown",
   "metadata": {},
   "source": [
    "#### 6. Upload the results into SLIMS"
   ]
  },
  {
   "cell_type": "code",
   "execution_count": null,
   "metadata": {},
   "outputs": [],
   "source": [
    "# Upload the results into SLIMS\n",
    "wf.slims_add_dataset(\n",
    "    files = \",\".join(\n",
    "        [os.path.join(results_dir, e)\n",
    "         for e in os.listdir(results_dir)\n",
    "         if os.path.isfile(os.path.join(results_dir, e))\n",
    "        ]) + \",\" + results_dataset_metadata\n",
    ")"
   ]
  },
  {
   "cell_type": "markdown",
   "metadata": {},
   "source": [
    "#### 7. Save your work in RENKU!"
   ]
  },
  {
   "cell_type": "code",
   "execution_count": null,
   "metadata": {},
   "outputs": [],
   "source": [
    "%%bash -s \"{input('Git commit message: ')}\"\n",
    "sed -i \"/data\\/\\*/d;/figs\\/\\*/d;/\\*\\.nb\\.html/d\" .gitignore\n",
    "git add -A\n",
    "git commit -m \"$1\"\n",
    "git push"
   ]
  }
 ],
 "metadata": {
  "file_extension": ".py",
  "kernelspec": {
   "display_name": "Python 3",
   "language": "python",
   "name": "python3"
  },
  "language_info": {
   "codemirror_mode": {
    "name": "ipython",
    "version": 3
   },
   "file_extension": ".py",
   "mimetype": "text/x-python",
   "name": "python",
   "nbconvert_exporter": "python",
   "pygments_lexer": "ipython3",
   "version": "3.7.3"
  },
  "mimetype": "text/x-python",
  "name": "python",
  "npconvert_exporter": "python",
  "pygments_lexer": "ipython3",
  "version": 3
 },
 "nbformat": 4,
 "nbformat_minor": 4
}

